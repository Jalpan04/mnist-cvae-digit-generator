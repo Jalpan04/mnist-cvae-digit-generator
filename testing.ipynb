{
  "nbformat": 4,
  "nbformat_minor": 0,
  "metadata": {
    "colab": {
      "provenance": []
    },
    "kernelspec": {
      "name": "python3",
      "display_name": "Python 3"
    },
    "language_info": {
      "name": "python"
    }
  },
  "cells": [
    {
      "cell_type": "code",
      "source": [
        "from tensorflow.keras.utils import register_keras_serializable\n",
        "import tensorflow as tf\n",
        "\n",
        "# Register the sampling function\n",
        "@register_keras_serializable()\n",
        "def sampling(args):\n",
        "    z_mean, z_log_var = args\n",
        "    epsilon = tf.random.normal(shape=tf.shape(z_mean))\n",
        "    return z_mean + tf.exp(0.5 * z_log_var) * epsilon\n"
      ],
      "metadata": {
        "id": "tBUGgP1cnxbt"
      },
      "execution_count": 3,
      "outputs": []
    },
    {
      "cell_type": "code",
      "execution_count": 6,
      "metadata": {
        "colab": {
          "base_uri": "https://localhost:8080/",
          "height": 309
        },
        "id": "f0_v6Ms9nOBm",
        "outputId": "0f8b536b-5b85-4f92-9afc-9dcf291ee1af"
      },
      "outputs": [
        {
          "output_type": "stream",
          "name": "stderr",
          "text": [
            "WARNING:absl:No training configuration found in the save file, so the model was *not* compiled. Compile it manually.\n",
            "WARNING:absl:No training configuration found in the save file, so the model was *not* compiled. Compile it manually.\n"
          ]
        },
        {
          "output_type": "stream",
          "name": "stdout",
          "text": [
            "Encoder and Decoder loaded successfully!\n",
            "\u001b[1m1/1\u001b[0m \u001b[32m━━━━━━━━━━━━━━━━━━━━\u001b[0m\u001b[37m\u001b[0m \u001b[1m0s\u001b[0m 69ms/step\n",
            "\u001b[1m1/1\u001b[0m \u001b[32m━━━━━━━━━━━━━━━━━━━━\u001b[0m\u001b[37m\u001b[0m \u001b[1m0s\u001b[0m 58ms/step\n",
            "\u001b[1m1/1\u001b[0m \u001b[32m━━━━━━━━━━━━━━━━━━━━\u001b[0m\u001b[37m\u001b[0m \u001b[1m0s\u001b[0m 38ms/step\n",
            "\u001b[1m1/1\u001b[0m \u001b[32m━━━━━━━━━━━━━━━━━━━━\u001b[0m\u001b[37m\u001b[0m \u001b[1m0s\u001b[0m 49ms/step\n",
            "\u001b[1m1/1\u001b[0m \u001b[32m━━━━━━━━━━━━━━━━━━━━\u001b[0m\u001b[37m\u001b[0m \u001b[1m0s\u001b[0m 39ms/step\n"
          ]
        },
        {
          "output_type": "display_data",
          "data": {
            "text/plain": [
              "<Figure size 1000x200 with 5 Axes>"
            ],
            "image/png": "[encoded data removed]"
          },
          "metadata": {}
        }
      ],
      "source": [
        "# =========================\n",
        "# 1. Load Encoder & Decoder\n",
        "# =========================\n",
        "from tensorflow.keras.models import load_model\n",
        "import numpy as np\n",
        "import matplotlib.pyplot as plt\n",
        "\n",
        "# Load saved models (use the format you saved: .h5 or .keras)\n",
        "encoder_loaded = load_model(\"cvae_encoder.h5\")\n",
        "decoder_loaded = load_model(\"cvae_decoder.h5\")\n",
        "\n",
        "print(\"Encoder and Decoder loaded successfully!\")\n",
        "\n",
        "# =========================\n",
        "# 2. Function to generate a number sequence\n",
        "# =========================\n",
        "def generate_number(decoder, number_str, latent_dim=2):\n",
        "    \"\"\"\n",
        "    Generate an image sequence for a number string, e.g., \"34528\".\n",
        "    Each digit is generated separately in random handwriting style.\n",
        "    \"\"\"\n",
        "    n = len(number_str)\n",
        "    plt.figure(figsize=(n*2, 2))\n",
        "\n",
        "    for i, char in enumerate(number_str):\n",
        "        digit = int(char)\n",
        "\n",
        "        # One-hot encode the digit\n",
        "        label = np.zeros((1, 10))\n",
        "        label[0, digit] = 1.0\n",
        "\n",
        "        # Sample a random latent vector\n",
        "        z_sample = np.random.normal(size=(1, latent_dim))\n",
        "\n",
        "        # Generate the digit image\n",
        "        x_decoded = decoder.predict([z_sample, label])\n",
        "        digit_img = x_decoded[0].reshape(28, 28)\n",
        "\n",
        "        # Plot\n",
        "        plt.subplot(1, n, i+1)\n",
        "        plt.imshow(digit_img, cmap=\"gray\")\n",
        "        plt.axis(\"off\")\n",
        "\n",
        "    plt.show()\n",
        "\n",
        "# =========================\n",
        "# 3. Generate example number\n",
        "# =========================\n",
        "generate_number(decoder_loaded, \"80085\")\n"
      ]
    }
  ]
}